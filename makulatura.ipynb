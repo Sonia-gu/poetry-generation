{
 "cells": [
  {
   "cell_type": "code",
   "execution_count": 1,
   "source": [
    "import tensorflow as tf\n",
    "\n",
    "from tensorflow.keras.preprocessing.sequence import pad_sequences\n",
    "from tensorflow.keras.layers import Embedding, LSTM, Dense, Bidirectional\n",
    "from tensorflow.keras.preprocessing.text import Tokenizer\n",
    "from tensorflow.keras.models import Sequential\n",
    "from tensorflow.keras.optimizers import Adam\n",
    "import numpy as np "
   ],
   "outputs": [
    {
     "output_type": "stream",
     "name": "stdout",
     "text": [
      "Init Plugin\n",
      "Init Graph Optimizer\n",
      "Init Kernel\n"
     ]
    }
   ],
   "metadata": {}
  },
  {
   "cell_type": "code",
   "execution_count": 5,
   "source": [
    "import matplotlib.pyplot as plt\n",
    "\n",
    "\n",
    "def plot_graphs(history, string):\n",
    "  plt.plot(history.history[string])\n",
    "  plt.xlabel(\"Epochs\")\n",
    "  plt.ylabel(string)\n",
    "  plt.show()"
   ],
   "outputs": [],
   "metadata": {}
  },
  {
   "cell_type": "code",
   "execution_count": 4,
   "source": [
    "tokenizer = Tokenizer()\n",
    "\n",
    "data = open('makulatura_lirics.txt').read()\n",
    "\n",
    "corpus = data.lower().split(\"\\n\")\n",
    "\n",
    "tokenizer.fit_on_texts(corpus)\n",
    "total_words = len(tokenizer.word_index) + 1\n",
    "\n",
    "# print(tokenizer.word_indeх)\n",
    "print(total_words)"
   ],
   "outputs": [
    {
     "output_type": "stream",
     "name": "stdout",
     "text": [
      "2333\n"
     ]
    }
   ],
   "metadata": {}
  },
  {
   "cell_type": "code",
   "execution_count": 6,
   "source": [
    "input_sequences = []\n",
    "for line in corpus:\n",
    "\ttoken_list = tokenizer.texts_to_sequences([line])[0]\n",
    "\tfor i in range(1, len(token_list)):\n",
    "\t\tn_gram_sequence = token_list[:i+1]\n",
    "\t\tinput_sequences.append(n_gram_sequence)\n",
    "\n",
    "# pad sequences \n",
    "max_sequence_len = max([len(x) for x in input_sequences])\n",
    "input_sequences = np.array(pad_sequences(input_sequences, maxlen=max_sequence_len, padding='pre'))\n",
    "\n",
    "# create predictors and label\n",
    "xs, labels = input_sequences[:,:-1],input_sequences[:,-1]\n",
    "\n",
    "ys = tf.keras.utils.to_categorical(labels, num_classes=total_words)"
   ],
   "outputs": [],
   "metadata": {}
  },
  {
   "cell_type": "code",
   "execution_count": 19,
   "source": [
    "#track list\n",
    "track_list = [\n",
    "    'летучий голландец',\n",
    "    'ножевое',\n",
    "    'альцгеймер',\n",
    "    'самый отстойный день',\n",
    "    'этап',\n",
    "    'вальтер',\n",
    "    'нейт диаз',\n",
    "    'лимб',\n",
    "    'пляж'\n",
    "]\n",
    "for name in track_list:\n",
    "    print(name, ':', end='')\n",
    "    for word in name.split(): print(tokenizer.word_index[word], end=' ')\n",
    "    print()\n",
    "\n"
   ],
   "outputs": [
    {
     "output_type": "stream",
     "name": "stdout",
     "text": [
      "летучий голландец :536 537 \n",
      "ножевое :306 \n",
      "альцгеймер :345 \n",
      "самый отстойный день :213 1116 71 \n",
      "этап :1249 \n",
      "вальтер :435 \n",
      "нейт диаз :242 484 \n",
      "лимб :1990 \n",
      "пляж :249 \n"
     ]
    }
   ],
   "metadata": {}
  },
  {
   "cell_type": "code",
   "execution_count": 20,
   "source": [
    "model = Sequential()\n",
    "model.add(Embedding(total_words, 100, input_length=max_sequence_len-1))\n",
    "model.add(Bidirectional(LSTM(150)))\n",
    "model.add(Dense(total_words, activation='softmax'))\n",
    "adam = Adam(lr=0.01)\n",
    "model.compile(loss='categorical_crossentropy', optimizer=adam, metrics=['accuracy'])\n",
    "#earlystop = EarlyStopping(monitor='val_loss', min_delta=0, patience=5, verbose=0, mode='auto')\n",
    "history = model.fit(xs, ys, epochs=100, verbose=1)\n",
    "#print model.summary()\n",
    "print(model)"
   ],
   "outputs": [
    {
     "output_type": "stream",
     "name": "stdout",
     "text": [
      "Metal device set to: Apple M1\n",
      "\n",
      "systemMemory: 8.00 GB\n",
      "maxCacheSize: 2.67 GB\n",
      "\n"
     ]
    },
    {
     "output_type": "stream",
     "name": "stderr",
     "text": [
      "2022-07-20 00:00:36.815088: I tensorflow/core/common_runtime/pluggable_device/pluggable_device_factory.cc:305] Could not identify NUMA node of platform GPU ID 0, defaulting to 0. Your kernel may not have been built with NUMA support.\n",
      "2022-07-20 00:00:36.815799: I tensorflow/core/common_runtime/pluggable_device/pluggable_device_factory.cc:271] Created TensorFlow device (/job:localhost/replica:0/task:0/device:GPU:0 with 0 MB memory) -> physical PluggableDevice (device: 0, name: METAL, pci bus id: <undefined>)\n",
      "/opt/homebrew/Caskroom/miniforge/base/envs/tensorflow/lib/python3.9/site-packages/tensorflow/python/keras/optimizer_v2/optimizer_v2.py:374: UserWarning: The `lr` argument is deprecated, use `learning_rate` instead.\n",
      "  warnings.warn(\n",
      "2022-07-20 00:00:37.899710: I tensorflow/compiler/mlir/mlir_graph_optimization_pass.cc:176] None of the MLIR Optimization Passes are enabled (registered 2)\n",
      "2022-07-20 00:00:37.902296: W tensorflow/core/platform/profile_utils/cpu_utils.cc:128] Failed to get CPU frequency: 0 Hz\n"
     ]
    },
    {
     "output_type": "stream",
     "name": "stdout",
     "text": [
      "Epoch 1/100\n"
     ]
    },
    {
     "output_type": "stream",
     "name": "stderr",
     "text": [
      "2022-07-20 00:00:38.650870: I tensorflow/core/grappler/optimizers/custom_graph_optimizer_registry.cc:112] Plugin optimizer for device_type GPU is enabled.\n",
      "2022-07-20 00:00:38.908798: I tensorflow/core/grappler/optimizers/custom_graph_optimizer_registry.cc:112] Plugin optimizer for device_type GPU is enabled.\n",
      "2022-07-20 00:00:38.934613: I tensorflow/core/grappler/optimizers/custom_graph_optimizer_registry.cc:112] Plugin optimizer for device_type GPU is enabled.\n",
      "2022-07-20 00:00:41.040188: I tensorflow/core/grappler/optimizers/custom_graph_optimizer_registry.cc:112] Plugin optimizer for device_type GPU is enabled.\n",
      "2022-07-20 00:00:41.054486: I tensorflow/core/grappler/optimizers/custom_graph_optimizer_registry.cc:112] Plugin optimizer for device_type GPU is enabled.\n"
     ]
    },
    {
     "output_type": "stream",
     "name": "stdout",
     "text": [
      "136/136 [==============================] - 9s 32ms/step - loss: 7.4693 - accuracy: 0.0297\n",
      "Epoch 2/100\n",
      "136/136 [==============================] - 4s 28ms/step - loss: 6.6112 - accuracy: 0.0364\n",
      "Epoch 3/100\n",
      "136/136 [==============================] - 4s 27ms/step - loss: 5.9496 - accuracy: 0.0551\n",
      "Epoch 4/100\n",
      "136/136 [==============================] - 4s 27ms/step - loss: 4.9889 - accuracy: 0.1021\n",
      "Epoch 5/100\n",
      "136/136 [==============================] - 4s 27ms/step - loss: 3.8908 - accuracy: 0.2032\n",
      "Epoch 6/100\n",
      "136/136 [==============================] - 4s 28ms/step - loss: 3.1745 - accuracy: 0.3171\n",
      "Epoch 7/100\n",
      "136/136 [==============================] - 4s 28ms/step - loss: 2.8002 - accuracy: 0.3726\n",
      "Epoch 8/100\n",
      "136/136 [==============================] - 4s 28ms/step - loss: 2.3624 - accuracy: 0.4530\n",
      "Epoch 9/100\n",
      "136/136 [==============================] - 4s 28ms/step - loss: 2.4463 - accuracy: 0.4387\n",
      "Epoch 10/100\n",
      "136/136 [==============================] - 4s 30ms/step - loss: 2.1181 - accuracy: 0.4963\n",
      "Epoch 11/100\n",
      "136/136 [==============================] - 4s 28ms/step - loss: 2.2268 - accuracy: 0.4696\n",
      "Epoch 12/100\n",
      "136/136 [==============================] - 4s 32ms/step - loss: 1.7624 - accuracy: 0.5608\n",
      "Epoch 13/100\n",
      "136/136 [==============================] - 4s 30ms/step - loss: 1.4634 - accuracy: 0.6316\n",
      "Epoch 14/100\n",
      "136/136 [==============================] - 4s 28ms/step - loss: 1.5510 - accuracy: 0.6108\n",
      "Epoch 15/100\n",
      "136/136 [==============================] - 4s 29ms/step - loss: 1.5676 - accuracy: 0.6094\n",
      "Epoch 16/100\n",
      "136/136 [==============================] - 4s 29ms/step - loss: 1.5569 - accuracy: 0.6067\n",
      "Epoch 17/100\n",
      "136/136 [==============================] - 4s 29ms/step - loss: 1.7232 - accuracy: 0.5694\n",
      "Epoch 18/100\n",
      "136/136 [==============================] - 4s 28ms/step - loss: 1.6090 - accuracy: 0.6025\n",
      "Epoch 19/100\n",
      "136/136 [==============================] - 4s 28ms/step - loss: 1.6061 - accuracy: 0.6005\n",
      "Epoch 20/100\n",
      "136/136 [==============================] - 4s 28ms/step - loss: 1.4651 - accuracy: 0.6348\n",
      "Epoch 21/100\n",
      "136/136 [==============================] - 4s 29ms/step - loss: 1.5476 - accuracy: 0.6065\n",
      "Epoch 22/100\n",
      "136/136 [==============================] - 4s 28ms/step - loss: 1.5865 - accuracy: 0.6173\n",
      "Epoch 23/100\n",
      "136/136 [==============================] - 4s 29ms/step - loss: 1.7088 - accuracy: 0.5813\n",
      "Epoch 24/100\n",
      "136/136 [==============================] - 4s 28ms/step - loss: 1.6978 - accuracy: 0.5841\n",
      "Epoch 25/100\n",
      "136/136 [==============================] - 4s 29ms/step - loss: 1.6259 - accuracy: 0.6025\n",
      "Epoch 26/100\n",
      "136/136 [==============================] - 4s 29ms/step - loss: 1.6879 - accuracy: 0.5954\n",
      "Epoch 27/100\n",
      "136/136 [==============================] - 4s 29ms/step - loss: 1.3656 - accuracy: 0.6463\n",
      "Epoch 28/100\n",
      "136/136 [==============================] - 4s 29ms/step - loss: 1.3496 - accuracy: 0.6574\n",
      "Epoch 29/100\n",
      "136/136 [==============================] - 4s 29ms/step - loss: 1.1494 - accuracy: 0.6919\n",
      "Epoch 30/100\n",
      "136/136 [==============================] - 4s 29ms/step - loss: 1.1456 - accuracy: 0.6963\n",
      "Epoch 31/100\n",
      "136/136 [==============================] - 4s 29ms/step - loss: 1.1476 - accuracy: 0.7152\n",
      "Epoch 32/100\n",
      "136/136 [==============================] - 4s 28ms/step - loss: 1.1618 - accuracy: 0.7074\n",
      "Epoch 33/100\n",
      "136/136 [==============================] - 4s 30ms/step - loss: 1.2801 - accuracy: 0.6742\n",
      "Epoch 34/100\n",
      "136/136 [==============================] - 4s 28ms/step - loss: 1.4133 - accuracy: 0.6482\n",
      "Epoch 35/100\n",
      "136/136 [==============================] - 4s 30ms/step - loss: 1.6800 - accuracy: 0.5956\n",
      "Epoch 36/100\n",
      "136/136 [==============================] - 4s 28ms/step - loss: 1.9475 - accuracy: 0.5548\n",
      "Epoch 37/100\n",
      "136/136 [==============================] - 4s 28ms/step - loss: 1.7743 - accuracy: 0.5855\n",
      "Epoch 38/100\n",
      "136/136 [==============================] - 4s 28ms/step - loss: 1.5960 - accuracy: 0.6120\n",
      "Epoch 39/100\n",
      "136/136 [==============================] - 4s 28ms/step - loss: 1.3705 - accuracy: 0.6502\n",
      "Epoch 40/100\n",
      "136/136 [==============================] - 4s 28ms/step - loss: 1.1747 - accuracy: 0.7081\n",
      "Epoch 41/100\n",
      "136/136 [==============================] - 4s 28ms/step - loss: 1.0413 - accuracy: 0.7279\n",
      "Epoch 42/100\n",
      "136/136 [==============================] - 4s 28ms/step - loss: 1.0631 - accuracy: 0.7359\n",
      "Epoch 43/100\n",
      "136/136 [==============================] - 4s 28ms/step - loss: 0.9699 - accuracy: 0.7486\n",
      "Epoch 44/100\n",
      "136/136 [==============================] - 4s 28ms/step - loss: 0.9642 - accuracy: 0.7502\n",
      "Epoch 45/100\n",
      "136/136 [==============================] - 4s 28ms/step - loss: 1.1948 - accuracy: 0.6933\n",
      "Epoch 46/100\n",
      "136/136 [==============================] - 4s 28ms/step - loss: 1.2891 - accuracy: 0.6756\n",
      "Epoch 47/100\n",
      "136/136 [==============================] - 4s 28ms/step - loss: 1.2106 - accuracy: 0.6965\n",
      "Epoch 48/100\n",
      "136/136 [==============================] - 4s 29ms/step - loss: 1.4769 - accuracy: 0.6447\n",
      "Epoch 49/100\n",
      "136/136 [==============================] - 4s 29ms/step - loss: 1.5064 - accuracy: 0.6376\n",
      "Epoch 50/100\n",
      "136/136 [==============================] - 4s 29ms/step - loss: 1.3804 - accuracy: 0.6726\n",
      "Epoch 51/100\n",
      "136/136 [==============================] - 4s 28ms/step - loss: 1.2282 - accuracy: 0.6949\n",
      "Epoch 52/100\n",
      "136/136 [==============================] - 4s 28ms/step - loss: 1.0357 - accuracy: 0.7329\n",
      "Epoch 53/100\n",
      "136/136 [==============================] - 4s 28ms/step - loss: 0.8346 - accuracy: 0.7915\n",
      "Epoch 54/100\n",
      "136/136 [==============================] - 4s 28ms/step - loss: 0.7339 - accuracy: 0.8210\n",
      "Epoch 55/100\n",
      "136/136 [==============================] - 4s 28ms/step - loss: 0.6889 - accuracy: 0.8304\n",
      "Epoch 56/100\n",
      "136/136 [==============================] - 4s 29ms/step - loss: 0.6173 - accuracy: 0.8505\n",
      "Epoch 57/100\n",
      "136/136 [==============================] - 4s 28ms/step - loss: 0.6267 - accuracy: 0.8435\n",
      "Epoch 58/100\n",
      "136/136 [==============================] - 4s 29ms/step - loss: 0.6364 - accuracy: 0.8422\n",
      "Epoch 59/100\n",
      "136/136 [==============================] - 4s 29ms/step - loss: 0.6165 - accuracy: 0.8507\n",
      "Epoch 60/100\n",
      "136/136 [==============================] - 4s 33ms/step - loss: 0.6781 - accuracy: 0.8316\n",
      "Epoch 61/100\n",
      "136/136 [==============================] - 4s 32ms/step - loss: 0.9668 - accuracy: 0.7606\n",
      "Epoch 62/100\n",
      "136/136 [==============================] - 4s 30ms/step - loss: 1.5146 - accuracy: 0.6488\n",
      "Epoch 63/100\n",
      "136/136 [==============================] - 4s 29ms/step - loss: 1.9280 - accuracy: 0.5772\n",
      "Epoch 64/100\n",
      "136/136 [==============================] - 4s 28ms/step - loss: 2.0535 - accuracy: 0.5569\n",
      "Epoch 65/100\n",
      "136/136 [==============================] - 4s 28ms/step - loss: 1.5442 - accuracy: 0.6403\n",
      "Epoch 66/100\n",
      "136/136 [==============================] - 4s 28ms/step - loss: 1.2492 - accuracy: 0.7002\n",
      "Epoch 67/100\n",
      "136/136 [==============================] - 4s 28ms/step - loss: 1.1469 - accuracy: 0.7233\n",
      "Epoch 68/100\n",
      "136/136 [==============================] - 4s 28ms/step - loss: 0.9889 - accuracy: 0.7539\n",
      "Epoch 69/100\n",
      "136/136 [==============================] - 4s 29ms/step - loss: 0.8206 - accuracy: 0.7933\n",
      "Epoch 70/100\n",
      "136/136 [==============================] - 4s 28ms/step - loss: 0.7054 - accuracy: 0.8286\n",
      "Epoch 71/100\n",
      "136/136 [==============================] - 4s 29ms/step - loss: 0.6590 - accuracy: 0.8366\n",
      "Epoch 72/100\n",
      "136/136 [==============================] - 4s 29ms/step - loss: 0.6009 - accuracy: 0.8551\n",
      "Epoch 73/100\n",
      "136/136 [==============================] - 4s 29ms/step - loss: 0.5818 - accuracy: 0.8585\n",
      "Epoch 74/100\n",
      "136/136 [==============================] - 4s 30ms/step - loss: 0.5437 - accuracy: 0.8705\n",
      "Epoch 75/100\n",
      "136/136 [==============================] - 4s 32ms/step - loss: 0.5137 - accuracy: 0.8753\n",
      "Epoch 76/100\n",
      "136/136 [==============================] - 4s 29ms/step - loss: 0.5482 - accuracy: 0.8673\n",
      "Epoch 77/100\n",
      "136/136 [==============================] - 4s 30ms/step - loss: 0.7817 - accuracy: 0.8060\n",
      "Epoch 78/100\n",
      "136/136 [==============================] - 4s 28ms/step - loss: 0.8629 - accuracy: 0.7889\n",
      "Epoch 79/100\n",
      "136/136 [==============================] - 4s 28ms/step - loss: 1.3223 - accuracy: 0.7032\n",
      "Epoch 80/100\n",
      "136/136 [==============================] - 4s 28ms/step - loss: 1.7039 - accuracy: 0.6286\n",
      "Epoch 81/100\n",
      "136/136 [==============================] - 4s 28ms/step - loss: 1.7726 - accuracy: 0.6161\n",
      "Epoch 82/100\n",
      "136/136 [==============================] - 4s 29ms/step - loss: 1.6908 - accuracy: 0.6235\n",
      "Epoch 83/100\n",
      "136/136 [==============================] - 4s 28ms/step - loss: 1.4804 - accuracy: 0.6555\n",
      "Epoch 84/100\n",
      "136/136 [==============================] - 4s 28ms/step - loss: 1.3787 - accuracy: 0.6744\n",
      "Epoch 85/100\n",
      "136/136 [==============================] - 4s 29ms/step - loss: 1.0910 - accuracy: 0.7362\n",
      "Epoch 86/100\n",
      "136/136 [==============================] - 4s 29ms/step - loss: 0.8540 - accuracy: 0.7795\n",
      "Epoch 87/100\n",
      "136/136 [==============================] - 4s 29ms/step - loss: 0.6613 - accuracy: 0.8325\n",
      "Epoch 88/100\n",
      "136/136 [==============================] - 4s 28ms/step - loss: 0.5549 - accuracy: 0.8717\n",
      "Epoch 89/100\n",
      "136/136 [==============================] - 4s 29ms/step - loss: 0.4480 - accuracy: 0.8986\n",
      "Epoch 90/100\n",
      "136/136 [==============================] - 4s 29ms/step - loss: 0.3991 - accuracy: 0.9159\n",
      "Epoch 91/100\n",
      "136/136 [==============================] - 4s 29ms/step - loss: 0.3607 - accuracy: 0.9272\n",
      "Epoch 92/100\n",
      "136/136 [==============================] - 4s 28ms/step - loss: 0.3449 - accuracy: 0.9304\n",
      "Epoch 93/100\n",
      "136/136 [==============================] - 4s 29ms/step - loss: 0.3312 - accuracy: 0.9346\n",
      "Epoch 94/100\n",
      "136/136 [==============================] - 4s 29ms/step - loss: 0.3203 - accuracy: 0.9329\n",
      "Epoch 95/100\n",
      "136/136 [==============================] - 4s 28ms/step - loss: 0.3310 - accuracy: 0.9327\n",
      "Epoch 96/100\n",
      "136/136 [==============================] - 4s 29ms/step - loss: 0.3262 - accuracy: 0.9320\n",
      "Epoch 97/100\n",
      "136/136 [==============================] - 4s 29ms/step - loss: 0.3331 - accuracy: 0.9293\n",
      "Epoch 98/100\n",
      "136/136 [==============================] - 4s 28ms/step - loss: 0.3156 - accuracy: 0.9309\n",
      "Epoch 99/100\n",
      "136/136 [==============================] - 4s 29ms/step - loss: 0.3138 - accuracy: 0.9327\n",
      "Epoch 100/100\n",
      "136/136 [==============================] - 4s 29ms/step - loss: 0.3221 - accuracy: 0.9334\n",
      "<tensorflow.python.keras.engine.sequential.Sequential object at 0x147d2f1f0>\n"
     ]
    }
   ],
   "metadata": {}
  },
  {
   "cell_type": "code",
   "execution_count": 23,
   "source": [
    "plot_graphs(history, 'accuracy')"
   ],
   "outputs": [
    {
     "output_type": "display_data",
     "data": {
      "text/plain": [
       "<Figure size 432x288 with 1 Axes>"
      ],
      "image/svg+xml": "<?xml version=\"1.0\" encoding=\"utf-8\" standalone=\"no\"?>\n<!DOCTYPE svg PUBLIC \"-//W3C//DTD SVG 1.1//EN\"\n  \"http://www.w3.org/Graphics/SVG/1.1/DTD/svg11.dtd\">\n<svg xmlns:xlink=\"http://www.w3.org/1999/xlink\" width=\"385.78125pt\" height=\"262.19625pt\" viewBox=\"0 0 385.78125 262.19625\" xmlns=\"http://www.w3.org/2000/svg\" version=\"1.1\">\n <metadata>\n  <rdf:RDF xmlns:dc=\"http://purl.org/dc/elements/1.1/\" xmlns:cc=\"http://creativecommons.org/ns#\" xmlns:rdf=\"http://www.w3.org/1999/02/22-rdf-syntax-ns#\">\n   <cc:Work>\n    <dc:type rdf:resource=\"http://purl.org/dc/dcmitype/StillImage\"/>\n    <dc:date>2022-07-20T00:08:27.960148</dc:date>\n    <dc:format>image/svg+xml</dc:format>\n    <dc:creator>\n     <cc:Agent>\n      <dc:title>Matplotlib v3.5.0, https://matplotlib.org/</dc:title>\n     </cc:Agent>\n    </dc:creator>\n   </cc:Work>\n  </rdf:RDF>\n </metadata>\n <defs>\n  <style type=\"text/css\">*{stroke-linejoin: round; stroke-linecap: butt}</style>\n </defs>\n <g id=\"figure_1\">\n  <g id=\"patch_1\">\n   <path d=\"M 0 262.19625 \nL 385.78125 262.19625 \nL 385.78125 0 \nL 0 0 \nL 0 262.19625 \nz\n\" style=\"fill: none\"/>\n  </g>\n  <g id=\"axes_1\">\n   <g id=\"patch_2\">\n    <path d=\"M 43.78125 224.64 \nL 378.58125 224.64 \nL 378.58125 7.2 \nL 43.78125 7.2 \nz\n\" style=\"fill: #ffffff\"/>\n   </g>\n   <g id=\"matplotlib.axis_1\">\n    <g id=\"xtick_1\">\n     <g id=\"line2d_1\">\n      <defs>\n       <path id=\"ma9ca89545e\" d=\"M 0 0 \nL 0 3.5 \n\" style=\"stroke: #000000; stroke-width: 0.8\"/>\n      </defs>\n      <g>\n       <use xlink:href=\"#ma9ca89545e\" x=\"58.999432\" y=\"224.64\" style=\"stroke: #000000; stroke-width: 0.8\"/>\n      </g>\n     </g>\n     <g id=\"text_1\">\n      <!-- 0 -->\n      <g transform=\"translate(55.818182 239.238438)scale(0.1 -0.1)\">\n       <defs>\n        <path id=\"DejaVuSans-30\" d=\"M 2034 4250 \nQ 1547 4250 1301 3770 \nQ 1056 3291 1056 2328 \nQ 1056 1369 1301 889 \nQ 1547 409 2034 409 \nQ 2525 409 2770 889 \nQ 3016 1369 3016 2328 \nQ 3016 3291 2770 3770 \nQ 2525 4250 2034 4250 \nz\nM 2034 4750 \nQ 2819 4750 3233 4129 \nQ 3647 3509 3647 2328 \nQ 3647 1150 3233 529 \nQ 2819 -91 2034 -91 \nQ 1250 -91 836 529 \nQ 422 1150 422 2328 \nQ 422 3509 836 4129 \nQ 1250 4750 2034 4750 \nz\n\" transform=\"scale(0.015625)\"/>\n       </defs>\n       <use xlink:href=\"#DejaVuSans-30\"/>\n      </g>\n     </g>\n    </g>\n    <g id=\"xtick_2\">\n     <g id=\"line2d_2\">\n      <g>\n       <use xlink:href=\"#ma9ca89545e\" x=\"120.487035\" y=\"224.64\" style=\"stroke: #000000; stroke-width: 0.8\"/>\n      </g>\n     </g>\n     <g id=\"text_2\">\n      <!-- 20 -->\n      <g transform=\"translate(114.124535 239.238438)scale(0.1 -0.1)\">\n       <defs>\n        <path id=\"DejaVuSans-32\" d=\"M 1228 531 \nL 3431 531 \nL 3431 0 \nL 469 0 \nL 469 531 \nQ 828 903 1448 1529 \nQ 2069 2156 2228 2338 \nQ 2531 2678 2651 2914 \nQ 2772 3150 2772 3378 \nQ 2772 3750 2511 3984 \nQ 2250 4219 1831 4219 \nQ 1534 4219 1204 4116 \nQ 875 4013 500 3803 \nL 500 4441 \nQ 881 4594 1212 4672 \nQ 1544 4750 1819 4750 \nQ 2544 4750 2975 4387 \nQ 3406 4025 3406 3419 \nQ 3406 3131 3298 2873 \nQ 3191 2616 2906 2266 \nQ 2828 2175 2409 1742 \nQ 1991 1309 1228 531 \nz\n\" transform=\"scale(0.015625)\"/>\n       </defs>\n       <use xlink:href=\"#DejaVuSans-32\"/>\n       <use xlink:href=\"#DejaVuSans-30\" x=\"63.623047\"/>\n      </g>\n     </g>\n    </g>\n    <g id=\"xtick_3\">\n     <g id=\"line2d_3\">\n      <g>\n       <use xlink:href=\"#ma9ca89545e\" x=\"181.974638\" y=\"224.64\" style=\"stroke: #000000; stroke-width: 0.8\"/>\n      </g>\n     </g>\n     <g id=\"text_3\">\n      <!-- 40 -->\n      <g transform=\"translate(175.612138 239.238438)scale(0.1 -0.1)\">\n       <defs>\n        <path id=\"DejaVuSans-34\" d=\"M 2419 4116 \nL 825 1625 \nL 2419 1625 \nL 2419 4116 \nz\nM 2253 4666 \nL 3047 4666 \nL 3047 1625 \nL 3713 1625 \nL 3713 1100 \nL 3047 1100 \nL 3047 0 \nL 2419 0 \nL 2419 1100 \nL 313 1100 \nL 313 1709 \nL 2253 4666 \nz\n\" transform=\"scale(0.015625)\"/>\n       </defs>\n       <use xlink:href=\"#DejaVuSans-34\"/>\n       <use xlink:href=\"#DejaVuSans-30\" x=\"63.623047\"/>\n      </g>\n     </g>\n    </g>\n    <g id=\"xtick_4\">\n     <g id=\"line2d_4\">\n      <g>\n       <use xlink:href=\"#ma9ca89545e\" x=\"243.462242\" y=\"224.64\" style=\"stroke: #000000; stroke-width: 0.8\"/>\n      </g>\n     </g>\n     <g id=\"text_4\">\n      <!-- 60 -->\n      <g transform=\"translate(237.099742 239.238438)scale(0.1 -0.1)\">\n       <defs>\n        <path id=\"DejaVuSans-36\" d=\"M 2113 2584 \nQ 1688 2584 1439 2293 \nQ 1191 2003 1191 1497 \nQ 1191 994 1439 701 \nQ 1688 409 2113 409 \nQ 2538 409 2786 701 \nQ 3034 994 3034 1497 \nQ 3034 2003 2786 2293 \nQ 2538 2584 2113 2584 \nz\nM 3366 4563 \nL 3366 3988 \nQ 3128 4100 2886 4159 \nQ 2644 4219 2406 4219 \nQ 1781 4219 1451 3797 \nQ 1122 3375 1075 2522 \nQ 1259 2794 1537 2939 \nQ 1816 3084 2150 3084 \nQ 2853 3084 3261 2657 \nQ 3669 2231 3669 1497 \nQ 3669 778 3244 343 \nQ 2819 -91 2113 -91 \nQ 1303 -91 875 529 \nQ 447 1150 447 2328 \nQ 447 3434 972 4092 \nQ 1497 4750 2381 4750 \nQ 2619 4750 2861 4703 \nQ 3103 4656 3366 4563 \nz\n\" transform=\"scale(0.015625)\"/>\n       </defs>\n       <use xlink:href=\"#DejaVuSans-36\"/>\n       <use xlink:href=\"#DejaVuSans-30\" x=\"63.623047\"/>\n      </g>\n     </g>\n    </g>\n    <g id=\"xtick_5\">\n     <g id=\"line2d_5\">\n      <g>\n       <use xlink:href=\"#ma9ca89545e\" x=\"304.949845\" y=\"224.64\" style=\"stroke: #000000; stroke-width: 0.8\"/>\n      </g>\n     </g>\n     <g id=\"text_5\">\n      <!-- 80 -->\n      <g transform=\"translate(298.587345 239.238438)scale(0.1 -0.1)\">\n       <defs>\n        <path id=\"DejaVuSans-38\" d=\"M 2034 2216 \nQ 1584 2216 1326 1975 \nQ 1069 1734 1069 1313 \nQ 1069 891 1326 650 \nQ 1584 409 2034 409 \nQ 2484 409 2743 651 \nQ 3003 894 3003 1313 \nQ 3003 1734 2745 1975 \nQ 2488 2216 2034 2216 \nz\nM 1403 2484 \nQ 997 2584 770 2862 \nQ 544 3141 544 3541 \nQ 544 4100 942 4425 \nQ 1341 4750 2034 4750 \nQ 2731 4750 3128 4425 \nQ 3525 4100 3525 3541 \nQ 3525 3141 3298 2862 \nQ 3072 2584 2669 2484 \nQ 3125 2378 3379 2068 \nQ 3634 1759 3634 1313 \nQ 3634 634 3220 271 \nQ 2806 -91 2034 -91 \nQ 1263 -91 848 271 \nQ 434 634 434 1313 \nQ 434 1759 690 2068 \nQ 947 2378 1403 2484 \nz\nM 1172 3481 \nQ 1172 3119 1398 2916 \nQ 1625 2713 2034 2713 \nQ 2441 2713 2670 2916 \nQ 2900 3119 2900 3481 \nQ 2900 3844 2670 4047 \nQ 2441 4250 2034 4250 \nQ 1625 4250 1398 4047 \nQ 1172 3844 1172 3481 \nz\n\" transform=\"scale(0.015625)\"/>\n       </defs>\n       <use xlink:href=\"#DejaVuSans-38\"/>\n       <use xlink:href=\"#DejaVuSans-30\" x=\"63.623047\"/>\n      </g>\n     </g>\n    </g>\n    <g id=\"xtick_6\">\n     <g id=\"line2d_6\">\n      <g>\n       <use xlink:href=\"#ma9ca89545e\" x=\"366.437448\" y=\"224.64\" style=\"stroke: #000000; stroke-width: 0.8\"/>\n      </g>\n     </g>\n     <g id=\"text_6\">\n      <!-- 100 -->\n      <g transform=\"translate(356.893698 239.238438)scale(0.1 -0.1)\">\n       <defs>\n        <path id=\"DejaVuSans-31\" d=\"M 794 531 \nL 1825 531 \nL 1825 4091 \nL 703 3866 \nL 703 4441 \nL 1819 4666 \nL 2450 4666 \nL 2450 531 \nL 3481 531 \nL 3481 0 \nL 794 0 \nL 794 531 \nz\n\" transform=\"scale(0.015625)\"/>\n       </defs>\n       <use xlink:href=\"#DejaVuSans-31\"/>\n       <use xlink:href=\"#DejaVuSans-30\" x=\"63.623047\"/>\n       <use xlink:href=\"#DejaVuSans-30\" x=\"127.246094\"/>\n      </g>\n     </g>\n    </g>\n    <g id=\"text_7\">\n     <!-- Epochs -->\n     <g transform=\"translate(193.265625 252.916563)scale(0.1 -0.1)\">\n      <defs>\n       <path id=\"DejaVuSans-45\" d=\"M 628 4666 \nL 3578 4666 \nL 3578 4134 \nL 1259 4134 \nL 1259 2753 \nL 3481 2753 \nL 3481 2222 \nL 1259 2222 \nL 1259 531 \nL 3634 531 \nL 3634 0 \nL 628 0 \nL 628 4666 \nz\n\" transform=\"scale(0.015625)\"/>\n       <path id=\"DejaVuSans-70\" d=\"M 1159 525 \nL 1159 -1331 \nL 581 -1331 \nL 581 3500 \nL 1159 3500 \nL 1159 2969 \nQ 1341 3281 1617 3432 \nQ 1894 3584 2278 3584 \nQ 2916 3584 3314 3078 \nQ 3713 2572 3713 1747 \nQ 3713 922 3314 415 \nQ 2916 -91 2278 -91 \nQ 1894 -91 1617 61 \nQ 1341 213 1159 525 \nz\nM 3116 1747 \nQ 3116 2381 2855 2742 \nQ 2594 3103 2138 3103 \nQ 1681 3103 1420 2742 \nQ 1159 2381 1159 1747 \nQ 1159 1113 1420 752 \nQ 1681 391 2138 391 \nQ 2594 391 2855 752 \nQ 3116 1113 3116 1747 \nz\n\" transform=\"scale(0.015625)\"/>\n       <path id=\"DejaVuSans-6f\" d=\"M 1959 3097 \nQ 1497 3097 1228 2736 \nQ 959 2375 959 1747 \nQ 959 1119 1226 758 \nQ 1494 397 1959 397 \nQ 2419 397 2687 759 \nQ 2956 1122 2956 1747 \nQ 2956 2369 2687 2733 \nQ 2419 3097 1959 3097 \nz\nM 1959 3584 \nQ 2709 3584 3137 3096 \nQ 3566 2609 3566 1747 \nQ 3566 888 3137 398 \nQ 2709 -91 1959 -91 \nQ 1206 -91 779 398 \nQ 353 888 353 1747 \nQ 353 2609 779 3096 \nQ 1206 3584 1959 3584 \nz\n\" transform=\"scale(0.015625)\"/>\n       <path id=\"DejaVuSans-63\" d=\"M 3122 3366 \nL 3122 2828 \nQ 2878 2963 2633 3030 \nQ 2388 3097 2138 3097 \nQ 1578 3097 1268 2742 \nQ 959 2388 959 1747 \nQ 959 1106 1268 751 \nQ 1578 397 2138 397 \nQ 2388 397 2633 464 \nQ 2878 531 3122 666 \nL 3122 134 \nQ 2881 22 2623 -34 \nQ 2366 -91 2075 -91 \nQ 1284 -91 818 406 \nQ 353 903 353 1747 \nQ 353 2603 823 3093 \nQ 1294 3584 2113 3584 \nQ 2378 3584 2631 3529 \nQ 2884 3475 3122 3366 \nz\n\" transform=\"scale(0.015625)\"/>\n       <path id=\"DejaVuSans-68\" d=\"M 3513 2113 \nL 3513 0 \nL 2938 0 \nL 2938 2094 \nQ 2938 2591 2744 2837 \nQ 2550 3084 2163 3084 \nQ 1697 3084 1428 2787 \nQ 1159 2491 1159 1978 \nL 1159 0 \nL 581 0 \nL 581 4863 \nL 1159 4863 \nL 1159 2956 \nQ 1366 3272 1645 3428 \nQ 1925 3584 2291 3584 \nQ 2894 3584 3203 3211 \nQ 3513 2838 3513 2113 \nz\n\" transform=\"scale(0.015625)\"/>\n       <path id=\"DejaVuSans-73\" d=\"M 2834 3397 \nL 2834 2853 \nQ 2591 2978 2328 3040 \nQ 2066 3103 1784 3103 \nQ 1356 3103 1142 2972 \nQ 928 2841 928 2578 \nQ 928 2378 1081 2264 \nQ 1234 2150 1697 2047 \nL 1894 2003 \nQ 2506 1872 2764 1633 \nQ 3022 1394 3022 966 \nQ 3022 478 2636 193 \nQ 2250 -91 1575 -91 \nQ 1294 -91 989 -36 \nQ 684 19 347 128 \nL 347 722 \nQ 666 556 975 473 \nQ 1284 391 1588 391 \nQ 1994 391 2212 530 \nQ 2431 669 2431 922 \nQ 2431 1156 2273 1281 \nQ 2116 1406 1581 1522 \nL 1381 1569 \nQ 847 1681 609 1914 \nQ 372 2147 372 2553 \nQ 372 3047 722 3315 \nQ 1072 3584 1716 3584 \nQ 2034 3584 2315 3537 \nQ 2597 3491 2834 3397 \nz\n\" transform=\"scale(0.015625)\"/>\n      </defs>\n      <use xlink:href=\"#DejaVuSans-45\"/>\n      <use xlink:href=\"#DejaVuSans-70\" x=\"63.183594\"/>\n      <use xlink:href=\"#DejaVuSans-6f\" x=\"126.660156\"/>\n      <use xlink:href=\"#DejaVuSans-63\" x=\"187.841797\"/>\n      <use xlink:href=\"#DejaVuSans-68\" x=\"242.822266\"/>\n      <use xlink:href=\"#DejaVuSans-73\" x=\"306.201172\"/>\n     </g>\n    </g>\n   </g>\n   <g id=\"matplotlib.axis_2\">\n    <g id=\"ytick_1\">\n     <g id=\"line2d_7\">\n      <defs>\n       <path id=\"m6c82168f24\" d=\"M 0 0 \nL -3.5 0 \n\" style=\"stroke: #000000; stroke-width: 0.8\"/>\n      </defs>\n      <g>\n       <use xlink:href=\"#m6c82168f24\" x=\"43.78125\" y=\"221.249815\" style=\"stroke: #000000; stroke-width: 0.8\"/>\n      </g>\n     </g>\n     <g id=\"text_8\">\n      <!-- 0.0 -->\n      <g transform=\"translate(20.878125 225.049033)scale(0.1 -0.1)\">\n       <defs>\n        <path id=\"DejaVuSans-2e\" d=\"M 684 794 \nL 1344 794 \nL 1344 0 \nL 684 0 \nL 684 794 \nz\n\" transform=\"scale(0.015625)\"/>\n       </defs>\n       <use xlink:href=\"#DejaVuSans-30\"/>\n       <use xlink:href=\"#DejaVuSans-2e\" x=\"63.623047\"/>\n       <use xlink:href=\"#DejaVuSans-30\" x=\"95.410156\"/>\n      </g>\n     </g>\n    </g>\n    <g id=\"ytick_2\">\n     <g id=\"line2d_8\">\n      <g>\n       <use xlink:href=\"#m6c82168f24\" x=\"43.78125\" y=\"177.557447\" style=\"stroke: #000000; stroke-width: 0.8\"/>\n      </g>\n     </g>\n     <g id=\"text_9\">\n      <!-- 0.2 -->\n      <g transform=\"translate(20.878125 181.356666)scale(0.1 -0.1)\">\n       <use xlink:href=\"#DejaVuSans-30\"/>\n       <use xlink:href=\"#DejaVuSans-2e\" x=\"63.623047\"/>\n       <use xlink:href=\"#DejaVuSans-32\" x=\"95.410156\"/>\n      </g>\n     </g>\n    </g>\n    <g id=\"ytick_3\">\n     <g id=\"line2d_9\">\n      <g>\n       <use xlink:href=\"#m6c82168f24\" x=\"43.78125\" y=\"133.865079\" style=\"stroke: #000000; stroke-width: 0.8\"/>\n      </g>\n     </g>\n     <g id=\"text_10\">\n      <!-- 0.4 -->\n      <g transform=\"translate(20.878125 137.664298)scale(0.1 -0.1)\">\n       <use xlink:href=\"#DejaVuSans-30\"/>\n       <use xlink:href=\"#DejaVuSans-2e\" x=\"63.623047\"/>\n       <use xlink:href=\"#DejaVuSans-34\" x=\"95.410156\"/>\n      </g>\n     </g>\n    </g>\n    <g id=\"ytick_4\">\n     <g id=\"line2d_10\">\n      <g>\n       <use xlink:href=\"#m6c82168f24\" x=\"43.78125\" y=\"90.172711\" style=\"stroke: #000000; stroke-width: 0.8\"/>\n      </g>\n     </g>\n     <g id=\"text_11\">\n      <!-- 0.6 -->\n      <g transform=\"translate(20.878125 93.97193)scale(0.1 -0.1)\">\n       <use xlink:href=\"#DejaVuSans-30\"/>\n       <use xlink:href=\"#DejaVuSans-2e\" x=\"63.623047\"/>\n       <use xlink:href=\"#DejaVuSans-36\" x=\"95.410156\"/>\n      </g>\n     </g>\n    </g>\n    <g id=\"ytick_5\">\n     <g id=\"line2d_11\">\n      <g>\n       <use xlink:href=\"#m6c82168f24\" x=\"43.78125\" y=\"46.480343\" style=\"stroke: #000000; stroke-width: 0.8\"/>\n      </g>\n     </g>\n     <g id=\"text_12\">\n      <!-- 0.8 -->\n      <g transform=\"translate(20.878125 50.279562)scale(0.1 -0.1)\">\n       <use xlink:href=\"#DejaVuSans-30\"/>\n       <use xlink:href=\"#DejaVuSans-2e\" x=\"63.623047\"/>\n       <use xlink:href=\"#DejaVuSans-38\" x=\"95.410156\"/>\n      </g>\n     </g>\n    </g>\n    <g id=\"text_13\">\n     <!-- accuracy -->\n     <g transform=\"translate(14.798438 138.479375)rotate(-90)scale(0.1 -0.1)\">\n      <defs>\n       <path id=\"DejaVuSans-61\" d=\"M 2194 1759 \nQ 1497 1759 1228 1600 \nQ 959 1441 959 1056 \nQ 959 750 1161 570 \nQ 1363 391 1709 391 \nQ 2188 391 2477 730 \nQ 2766 1069 2766 1631 \nL 2766 1759 \nL 2194 1759 \nz\nM 3341 1997 \nL 3341 0 \nL 2766 0 \nL 2766 531 \nQ 2569 213 2275 61 \nQ 1981 -91 1556 -91 \nQ 1019 -91 701 211 \nQ 384 513 384 1019 \nQ 384 1609 779 1909 \nQ 1175 2209 1959 2209 \nL 2766 2209 \nL 2766 2266 \nQ 2766 2663 2505 2880 \nQ 2244 3097 1772 3097 \nQ 1472 3097 1187 3025 \nQ 903 2953 641 2809 \nL 641 3341 \nQ 956 3463 1253 3523 \nQ 1550 3584 1831 3584 \nQ 2591 3584 2966 3190 \nQ 3341 2797 3341 1997 \nz\n\" transform=\"scale(0.015625)\"/>\n       <path id=\"DejaVuSans-75\" d=\"M 544 1381 \nL 544 3500 \nL 1119 3500 \nL 1119 1403 \nQ 1119 906 1312 657 \nQ 1506 409 1894 409 \nQ 2359 409 2629 706 \nQ 2900 1003 2900 1516 \nL 2900 3500 \nL 3475 3500 \nL 3475 0 \nL 2900 0 \nL 2900 538 \nQ 2691 219 2414 64 \nQ 2138 -91 1772 -91 \nQ 1169 -91 856 284 \nQ 544 659 544 1381 \nz\nM 1991 3584 \nL 1991 3584 \nz\n\" transform=\"scale(0.015625)\"/>\n       <path id=\"DejaVuSans-72\" d=\"M 2631 2963 \nQ 2534 3019 2420 3045 \nQ 2306 3072 2169 3072 \nQ 1681 3072 1420 2755 \nQ 1159 2438 1159 1844 \nL 1159 0 \nL 581 0 \nL 581 3500 \nL 1159 3500 \nL 1159 2956 \nQ 1341 3275 1631 3429 \nQ 1922 3584 2338 3584 \nQ 2397 3584 2469 3576 \nQ 2541 3569 2628 3553 \nL 2631 2963 \nz\n\" transform=\"scale(0.015625)\"/>\n       <path id=\"DejaVuSans-79\" d=\"M 2059 -325 \nQ 1816 -950 1584 -1140 \nQ 1353 -1331 966 -1331 \nL 506 -1331 \nL 506 -850 \nL 844 -850 \nQ 1081 -850 1212 -737 \nQ 1344 -625 1503 -206 \nL 1606 56 \nL 191 3500 \nL 800 3500 \nL 1894 763 \nL 2988 3500 \nL 3597 3500 \nL 2059 -325 \nz\n\" transform=\"scale(0.015625)\"/>\n      </defs>\n      <use xlink:href=\"#DejaVuSans-61\"/>\n      <use xlink:href=\"#DejaVuSans-63\" x=\"61.279297\"/>\n      <use xlink:href=\"#DejaVuSans-63\" x=\"116.259766\"/>\n      <use xlink:href=\"#DejaVuSans-75\" x=\"171.240234\"/>\n      <use xlink:href=\"#DejaVuSans-72\" x=\"234.619141\"/>\n      <use xlink:href=\"#DejaVuSans-61\" x=\"275.732422\"/>\n      <use xlink:href=\"#DejaVuSans-63\" x=\"337.011719\"/>\n      <use xlink:href=\"#DejaVuSans-79\" x=\"391.992188\"/>\n     </g>\n    </g>\n   </g>\n   <g id=\"line2d_12\">\n    <path d=\"M 58.999432 214.756364 \nL 62.073812 213.296596 \nL 65.148192 209.219312 \nL 68.222572 198.950599 \nL 71.296952 176.852731 \nL 74.371333 151.986337 \nL 77.445713 139.855161 \nL 80.520093 122.287609 \nL 83.594473 125.408492 \nL 86.668853 112.824285 \nL 89.743233 118.663353 \nL 92.817614 98.729966 \nL 95.891994 83.276565 \nL 98.966374 87.806885 \nL 102.040754 88.108902 \nL 105.115134 88.712936 \nL 108.189514 96.867511 \nL 111.263895 89.619 \nL 114.338275 90.072038 \nL 117.412655 82.57185 \nL 120.487035 88.763276 \nL 123.561415 86.397442 \nL 126.635795 94.249987 \nL 129.710176 93.645953 \nL 132.784556 89.619 \nL 135.858936 91.179451 \nL 138.933316 80.055007 \nL 142.007696 77.638833 \nL 145.082076 70.088317 \nL 148.156457 69.131913 \nL 151.230837 65.004291 \nL 154.305217 66.715751 \nL 157.379597 73.964249 \nL 160.453977 79.652309 \nL 163.528357 91.12911 \nL 166.602738 100.038728 \nL 169.677118 93.343936 \nL 172.751498 87.555195 \nL 175.825878 79.199284 \nL 178.900258 66.564743 \nL 181.974638 62.235772 \nL 185.049019 60.473985 \nL 188.123399 57.705452 \nL 191.197779 57.353095 \nL 194.272159 69.786287 \nL 197.346539 73.662232 \nL 200.420919 69.081572 \nL 203.4953 80.407365 \nL 206.56968 81.967803 \nL 209.64406 74.316607 \nL 212.71844 69.43393 \nL 215.79282 61.128359 \nL 218.8672 48.342809 \nL 221.941581 41.899694 \nL 225.015961 39.835876 \nL 228.090341 35.456578 \nL 231.164721 36.966676 \nL 234.239101 37.268706 \nL 237.313481 35.406238 \nL 240.387862 39.5842 \nL 243.462242 55.087942 \nL 246.536622 79.501301 \nL 249.611002 95.156051 \nL 252.685382 99.585703 \nL 255.759762 81.363769 \nL 258.834143 68.276189 \nL 261.908523 63.242504 \nL 264.982903 56.547712 \nL 268.057283 47.940111 \nL 271.131663 40.238574 \nL 274.206043 38.476787 \nL 277.280424 34.449833 \nL 280.354804 33.694791 \nL 283.429184 31.077267 \nL 286.503564 30.020195 \nL 289.577944 31.781982 \nL 292.652324 45.171579 \nL 295.726705 48.896516 \nL 298.801085 67.621815 \nL 301.875465 83.93094 \nL 304.949845 86.649131 \nL 308.024225 85.038352 \nL 311.098605 78.041531 \nL 314.172986 73.913909 \nL 317.247366 60.423644 \nL 320.321746 50.96032 \nL 323.396126 39.382851 \nL 326.470506 30.825591 \nL 329.544886 24.936182 \nL 332.619267 21.160918 \nL 335.693647 18.694415 \nL 338.768027 17.9897 \nL 341.842407 17.083636 \nL 344.916787 17.435994 \nL 347.991167 17.486321 \nL 351.065548 17.637343 \nL 354.139928 18.241377 \nL 357.214308 17.889019 \nL 360.288688 17.486321 \nL 363.363068 17.335313 \n\" clip-path=\"url(#p63fa368617)\" style=\"fill: none; stroke: #1f77b4; stroke-width: 1.5; stroke-linecap: square\"/>\n   </g>\n   <g id=\"patch_3\">\n    <path d=\"M 43.78125 224.64 \nL 43.78125 7.2 \n\" style=\"fill: none; stroke: #000000; stroke-width: 0.8; stroke-linejoin: miter; stroke-linecap: square\"/>\n   </g>\n   <g id=\"patch_4\">\n    <path d=\"M 378.58125 224.64 \nL 378.58125 7.2 \n\" style=\"fill: none; stroke: #000000; stroke-width: 0.8; stroke-linejoin: miter; stroke-linecap: square\"/>\n   </g>\n   <g id=\"patch_5\">\n    <path d=\"M 43.78125 224.64 \nL 378.58125 224.64 \n\" style=\"fill: none; stroke: #000000; stroke-width: 0.8; stroke-linejoin: miter; stroke-linecap: square\"/>\n   </g>\n   <g id=\"patch_6\">\n    <path d=\"M 43.78125 7.2 \nL 378.58125 7.2 \n\" style=\"fill: none; stroke: #000000; stroke-width: 0.8; stroke-linejoin: miter; stroke-linecap: square\"/>\n   </g>\n  </g>\n </g>\n <defs>\n  <clipPath id=\"p63fa368617\">\n   <rect x=\"43.78125\" y=\"7.2\" width=\"334.8\" height=\"217.44\"/>\n  </clipPath>\n </defs>\n</svg>\n",
      "image/png": "[encoded data removed]"
     },
     "metadata": {
      "needs_background": "light"
     }
    }
   ],
   "metadata": {}
  },
  {
   "cell_type": "code",
   "execution_count": 27,
   "source": [
    "seed_text = \"В эфире стол заказов радио НейроАлёхин\"\n",
    "next_words = 50\n",
    "\n",
    "  \n",
    "for _ in range(next_words):\n",
    "\ttoken_list = tokenizer.texts_to_sequences([seed_text])[0]\n",
    "\ttoken_list = pad_sequences([token_list], maxlen=max_sequence_len-1, padding='pre')\n",
    "\tpredicted = np.argmax(model.predict(token_list), axis=-1)\n",
    "\toutput_word = \"\"\n",
    "\tfor word, index in tokenizer.word_index.items():\n",
    "\t\tif index == predicted:\n",
    "\t\t\toutput_word = word\n",
    "\t\t\tbreak\n",
    "\tseed_text += \" \" + output_word\n",
    "print(seed_text)"
   ],
   "outputs": [
    {
     "output_type": "stream",
     "name": "stdout",
     "text": [
      "В эфире стол заказов радио НейроАлёхин разрушенном интервью зачем еще с тобой которой твои глаза по ты можешь выпить как ты можешь выпить как ты можешь как заглавный трек близко двери трек близко двери трек детского сном со поршнем утонуть в увлекательных семинаров монетка семинаров пролитый и тяжесть веселья вопрос рапиде за детских обедать связки потерянных\n"
     ]
    }
   ],
   "metadata": {}
  }
 ],
 "metadata": {
  "orig_nbformat": 4,
  "language_info": {
   "name": "python",
   "version": "3.9.7",
   "mimetype": "text/x-python",
   "codemirror_mode": {
    "name": "ipython",
    "version": 3
   },
   "pygments_lexer": "ipython3",
   "nbconvert_exporter": "python",
   "file_extension": ".py"
  },
  "kernelspec": {
   "name": "python3",
   "display_name": "Python 3.9.7 64-bit (conda)"
  },
  "interpreter": {
   "hash": "96e5d53265b94df340949bd6ef5afdc360b59f503fc29fdfbde1773c536f468a"
  }
 },
 "nbformat": 4,
 "nbformat_minor": 2
}